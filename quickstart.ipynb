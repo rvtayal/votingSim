{
 "cells": [
  {
   "cell_type": "markdown",
   "id": "04190129-7583-4d3c-b73e-975cebda45c6",
   "metadata": {},
   "source": [
    "# RJ's VotingSim Quickstart"
   ]
  },
  {
   "cell_type": "markdown",
   "id": "a9da03df-16c3-4b57-96d8-4920036b289f",
   "metadata": {},
   "source": [
    "## Introduction\n",
    "\n",
    "Back in 2016, when Donald Trump won election to be the President, there was a lot of fussing about illegal voting and electorla voting and young people voting and voting in general. While I have some thoughts about illegal voting (hasn't proved to be a significant problem) and the electoral college ([not great Bob](https://images.app.goo.gl/h93DqB73thZRu6Vh8)) and young people voting (definitely a good thing), something that reall caught my attention was this thing called [*Ranked Choice Voting*](https://en.wikipedia.org/wiki/Ranked_voting).\n",
    "\n",
    "I probably had heard of it before, but had never considered it fully before the 2016 election, instead believing in the sancity and perfectness of the American election form. But after the election I was thinking: maybe another voting system is better? \n",
    "\n",
    "Thus I had the idea for this project, which very naturally I didn't fully pick up until 2023. I only have one goal for this project, and that is to evaluate a number of vote tallying strategies on various population distributions. But other than that, I'm just going to jump right in. Maybe if this ever gets to some stage of completeness I'll come back and write a real description. :)"
   ]
  },
  {
   "cell_type": "markdown",
   "id": "b0714cc5-1086-48e3-8107-f6794d427dcd",
   "metadata": {},
   "source": [
    "## Brief Overview of Some Voting Styles\n",
    "It seems necesary to briefly describe the voting strategies I'm interested in. Just to cover all my bases, all voting situations are made up and all descriptions are *at best* poorly researched.\n",
    "\n",
    "### Classic\n",
    "Given a list of $n$ candidates, a voter can select $1$ candidate to vote for. This is seen in the American election style. Whichever candidate receives the most votes is elected (leaving out the possibility of three candidate situations for now, where a plurality would be sufficient to win). I think this situation needs no further explanation.\n",
    "\n",
    "### Ranked Choice\n",
    "Given a list of $n$ candidates, a voter can **rank** some number $m$ candidates, where $m \\le n$, in the order they would prefer. When votes are tallied, all ballots are counted for the candidate ranked at the top of that specific ballot. If some candidate receives the majority of votes, then great, they win. If not, then the lowest scoring candidate is eliminated. Any ballots with the eliminated candidate specified have that entry crossed off, and tallying happens again with $n-1$ candidates.\n",
    "\n",
    "**An example:** Let us assume there are 3 candidates: Arty, Bella, and Christy. Let us consider 5 voter, who will be numbered for simplicity. Let's say in this format each voter can specify 2 candidates in their preferred order. Voting might look like this:\n",
    "\n",
    "1. Arty, Chirsty\n",
    "2. Bella, Arty\n",
    "3. Christy, Arty\n",
    "4. Arty, Bella\n",
    "5. Bella, Christy\n",
    "\n",
    "After the first round of voting we have the following tally:\n",
    "| Candidate | Votes |\r\n",
    "|-----------|-------|\r\n",
    "| Arty      | 2     |\r\n",
    "| Bella     | 2     |\r\n",
    "| Christy   | 1  \n",
    "\n",
    "Ah shoot! No one wins. Well now we eliminate the lowest scoring candidate (Bye Christy, it was you refusal to say puppies are cute that doomed you). So now we need to refresh our ballots:\n",
    "1. Arty, ~~Chirsty~~\n",
    "2. Bella, Arty\n",
    "3. ~~Christy~~, Arty\n",
    "4. Arty, Bella\n",
    "5. Bella, ~~Christy~~\n",
    "\n",
    "So now our tally looks like:\n",
    "| Candidate | Votes |\n",
    "|-----------|-------|\n",
    "| Arty      | 3     |\n",
    "| Bella     | 2     |\n",
    "\n",
    "Woohoo we have a winner. Some things about ranked choice:\n",
    "\n",
    "- It allows voters to vote for an unpopular candidate whom they prefer, without throwing away votes as happens in a 2 candidate system like the US.   |  |"
   ]
  },
  {
   "cell_type": "markdown",
   "id": "5a538133-0063-4410-b31f-cdd974147ad0",
   "metadata": {},
   "source": [
    "## Lets write some code\n",
    "Ok enough jibber jabber, lets start defining our simulator. Wait first some imports and such.\n",
    "\n",
    "Also if it wasn't obvious, I'm using this project as an opportunity to teach myself some libraries."
   ]
  },
  {
   "cell_type": "code",
   "execution_count": 1,
   "id": "fe2f8e86-4bc7-41b6-b050-3f21efde4ef8",
   "metadata": {},
   "outputs": [],
   "source": [
    "import numpy as np\n",
    "import matplotlib.pyplot as plt\n",
    "import seaborn as sns\n",
    "import pandas as pd\n",
    "%matplotlib inline"
   ]
  },
  {
   "cell_type": "markdown",
   "id": "6b2980c1-cad4-44cb-9917-0ce6ecc720cb",
   "metadata": {},
   "source": [
    "Well, actually, maybe lets think through some requirements for now.\n",
    "\n",
    "I want to start with a purely 2-D system. Each voter and candidate will fall somewhere on the real number line which represents their position on some issue. Maybe it's Democrat vs Republican, maybe its coffe vs tea, or maybe it's people who don't use turn signals should be violently executed vs ... not that.\n",
    "\n",
    "The idea is eventually compare these voting algorithms on a variety of probability distributions from which we will sample our population of voters. It'll be easiest if we have our center at 0 and let's restrict our candidates to the range $[-4, 4]$, choosen because on a normal curve with mean $\\mu = 0$ and standard deviation $\\sigma = 1$, the probability of selecting a value outside that range is effectively 0.\n",
    "\n",
    "For now let's just hardcode some stuff, we can come back and be general later."
   ]
  },
  {
   "cell_type": "code",
   "execution_count": 36,
   "id": "3fb2cdd8-b216-41c8-90d6-3370062e20c9",
   "metadata": {},
   "outputs": [
    {
     "data": {
      "image/png": "[encoded data removed]",
      "text/plain": [
       "<Figure size 1000x100 with 1 Axes>"
      ]
     },
     "metadata": {},
     "output_type": "display_data"
    },
    {
     "data": {
      "image/png": "[encoded data removed]",
      "text/plain": [
       "<Figure size 1000x100 with 1 Axes>"
      ]
     },
     "metadata": {},
     "output_type": "display_data"
    }
   ],
   "source": [
    "# Quickly, a number line plotting function might be helpful, so lets just do that quickly\n",
    "def number_line_plot(x, text_labels=None, text_size=10, dot_size=50, x_lim=[-5,5]):\n",
    "    fig, ax = plt.subplots()\n",
    "    plt.scatter(np.array(x), np.zeros(x.shape), s=dot_size)\n",
    "    # fig = plt.gcf()\n",
    "    # ax = plt.gca()\n",
    "    fig.set_figheight(1)\n",
    "    fig.set_figwidth(10)\n",
    "    ax.set_xlim(x_lim)\n",
    "    ax.set_ylim([-1,1])\n",
    "    ax.get_yaxis().set_visible(False)\n",
    "\n",
    "    if text_labels is not None and x.size==len(text_labels):\n",
    "        for i, label in enumerate(text_labels):\n",
    "            ax.annotate(label, (x[i]-(len(label) * 0.05), 0.2), fontsize=text_size)\n",
    "    return ax\n",
    "\n",
    "ax = number_line_plot(np.array([1,2,3,4]), text_labels=['1', '2', '3', '4'])\n",
    "plt.show()\n",
    "ax = number_line_plot(np.random.normal(size=(100,)), dot_size=5)"
   ]
  },
  {
   "cell_type": "code",
   "execution_count": 33,
   "id": "fef0c0bd-db04-4553-95fe-ac82510b61b5",
   "metadata": {},
   "outputs": [
    {
     "data": {
      "image/png": "[encoded data removed]",
      "text/plain": [
       "<Figure size 1000x100 with 1 Axes>"
      ]
     },
     "metadata": {},
     "output_type": "display_data"
    }
   ],
   "source": [
    "candidates = {'Arty': 0.25,\n",
    "              'Bella': -0.5,\n",
    "              'Christy': 2}\n",
    "\n",
    "ax = number_line_plot(np.array(list(candidates.values())), text_labels=candidates.keys())"
   ]
  },
  {
   "cell_type": "markdown",
   "id": "e9bd74a8-89af-4bad-9024-80807766c205",
   "metadata": {},
   "source": [
    "Ok now let's think about our voters. Like our candidates, they're represented by a location on the number line showing where they fall on ourr non-offensive political issue. However it is worth explicitly laying out how the position of a voter relates to their voting behavior. A voter at position $x$ wants to vote for the candidate that minimizes $\\mid x - c \\mid$, where $c$ is the position of the candidate.\n",
    "\n",
    "In a classic election (America style) that means our citizen votes for the closest candidate to their position. For ranked choice voting, the voters top choice would be the closest to their position, the second choice would be the second closest, etc..."
   ]
  },
  {
   "cell_type": "code",
   "execution_count": null,
   "id": "db9ab904-a16d-4087-8597-0b4f285b140c",
   "metadata": {},
   "outputs": [],
   "source": []
  }
 ],
 "metadata": {
  "kernelspec": {
   "display_name": "Python 3 (ipykernel)",
   "language": "python",
   "name": "python3"
  },
  "language_info": {
   "codemirror_mode": {
    "name": "ipython",
    "version": 3
   },
   "file_extension": ".py",
   "mimetype": "text/x-python",
   "name": "python",
   "nbconvert_exporter": "python",
   "pygments_lexer": "ipython3",
   "version": "3.9.18"
  }
 },
 "nbformat": 4,
 "nbformat_minor": 5
}
