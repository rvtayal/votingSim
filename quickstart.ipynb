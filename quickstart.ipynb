{
 "cells": [
  {
   "cell_type": "markdown",
   "id": "04190129-7583-4d3c-b73e-975cebda45c6",
   "metadata": {},
   "source": [
    "# RJ's VotingSim Quickstart"
   ]
  },
  {
   "cell_type": "markdown",
   "id": "a9da03df-16c3-4b57-96d8-4920036b289f",
   "metadata": {},
   "source": [
    "## Introduction\n",
    "\n",
    "Back in 2016, when Donald Trump won election to be the President, there was a lot of fussing about illegal voting and electoral voting and young people voting and voting in general. While I have some thoughts about illegal voting (hasn't proved to be a significant problem) and the electoral college ([not great Bob](https://images.app.goo.gl/h93DqB73thZRu6Vh8)) and young people voting (definitely a good thing), something that reall caught my attention was this thing called [*Ranked Choice Voting*](https://en.wikipedia.org/wiki/Ranked_voting).\n",
    "\n",
    "I probably had heard of it before, but had never considered it fully before the 2016 election, instead believing in the sancity and perfectness of the American election form. But after the election I was thinking: maybe another voting system is better? \n",
    "\n",
    "Thus I had the idea for this project, which very naturally I didn't fully pick up until 2023. I only have one goal for this project, and that is to evaluate a number of vote tallying strategies on various population distributions. But other than that, I'm just going to jump right in. Maybe if this ever gets to some stage of completeness I'll come back and write a real description. :)"
   ]
  },
  {
   "attachments": {},
   "cell_type": "markdown",
   "id": "b0714cc5-1086-48e3-8107-f6794d427dcd",
   "metadata": {},
   "source": [
    "## Brief Overview of Some Voting Styles\n",
    "It seems necesary to briefly describe the voting strategies I'm interested in. Just to cover all my bases, all voting situations are made up and all descriptions are *at best* poorly researched.\n",
    "\n",
    "### Classic\n",
    "Given a list of $n$ candidates, a voter can select $1$ candidate to vote for. This is seen in the American election style. Whichever candidate receives the most votes is elected (leaving out the possibility of three candidate situations for now, where a plurality would be sufficient to win). I think this situation needs no further explanation.\n",
    "\n",
    "### Ranked Choice\n",
    "Given a list of $n$ candidates, a voter can **rank** some number $m$ candidates, where $m \\le n$, in the order they would prefer. When votes are tallied, all ballots are counted for the candidate ranked at the top of that specific ballot. If some candidate receives the majority of votes, then great, they win. If not, then the lowest scoring candidate is eliminated. Any ballots with the eliminated candidate specified have that entry crossed off, and tallying happens again with $n-1$ candidates.\n",
    "\n",
    "**An example:** Let us assume there are 3 candidates: Arty, Bella, and Christy. Let us consider 5 voter, who will be numbered for simplicity. Let's say in this format each voter can specify 2 candidates in their preferred order. Voting might look like this:\n",
    "\n",
    "1. Arty, Chirsty\n",
    "2. Bella, Arty\n",
    "3. Christy, Arty\n",
    "4. Arty, Bella\n",
    "5. Bella, Christy\n",
    "\n",
    "After the first round of voting we have the following tally:\n",
    "| Candidate | Votes |\n",
    "|-----------|-------|\n",
    "| Arty      | 2     |\n",
    "| Bella     | 2     |\n",
    "| Christy   | 1  \n",
    "\n",
    "Ah shoot! No one wins. Well now we eliminate the lowest scoring candidate (Bye Christy, it was you refusal to say puppies are cute that doomed you). So now we need to refresh our ballots:\n",
    "1. Arty, ~~Chirsty~~\n",
    "2. Bella, Arty\n",
    "3. ~~Christy~~, Arty\n",
    "4. Arty, Bella\n",
    "5. Bella, ~~Christy~~\n",
    "\n",
    "Voter 3's previous preference for Cristy is discarded, and their ballot now counts for their second option: Arty. So now our tally looks like:\n",
    "| Candidate | Votes |\n",
    "|-----------|-------|\n",
    "| Arty      | 3     |\n",
    "| Bella     | 2     |\n",
    "\n",
    "Woohoo we have a winner. Some things about ranked choice:\n",
    "\n",
    "- It allows voters to vote for an unpopular candidate whom they prefer, without throwing away votes as happens in a 2 candidate system like the US.\n",
    "- Allows voters to indicate a preference for some candidate over another, while still giving support to that second candidate \n",
    "\n",
    "### Approval\n",
    "Given a list of $n$ candidates, a vote can choose of up to $n$ that they would **approve** of winning the election. The winner of the election is the candidate with the most overall \"approvals\". \n",
    "\n",
    "**An example:** Let us re-use our 3 candidates from before: Arty, Bella, and Christy, as well as our 5 numbered voters. Each voter may select up to 3 that they approve of on their ballot. So the ballots may look like this:\n",
    "\n",
    "1. Arty, Bella, Chirsty\n",
    "2. Arty, Bella\n",
    "3. Arty\n",
    "4. Arty, Bella\n",
    "5. Christy\n",
    "\n",
    "Then our final tally is:\n",
    "\n",
    "1. Arty - 4 votes\n",
    "2. Bella - 3 votes\n",
    "3. Christy - 2 votes"
   ]
  },
  {
   "cell_type": "markdown",
   "id": "5a538133-0063-4410-b31f-cdd974147ad0",
   "metadata": {},
   "source": [
    "## Lets write some code\n",
    "Ok enough jibber jabber, lets start defining our simulator. Wait first some imports and such.\n",
    "\n",
    "Also if it wasn't obvious, I'm using this project as an opportunity to teach myself some libraries."
   ]
  },
  {
   "cell_type": "code",
   "execution_count": 57,
   "id": "fe2f8e86-4bc7-41b6-b050-3f21efde4ef8",
   "metadata": {},
   "outputs": [],
   "source": [
    "import numpy as np\n",
    "import matplotlib.pyplot as plt\n",
    "import seaborn as sns\n",
    "import pandas as pd\n",
    "%matplotlib inline"
   ]
  },
  {
   "cell_type": "markdown",
   "id": "6b2980c1-cad4-44cb-9917-0ce6ecc720cb",
   "metadata": {},
   "source": [
    "Well, actually, maybe lets think through some requirements for now.\n",
    "\n",
    "I want to start with a purely 1-D system. Each voter and candidate will fall somewhere on the real number line which represents their position on some issue. Maybe it's Democrat vs Republican, maybe its coffee vs tea, or maybe it's people who don't use turn signals should be violently executed vs ... not that.\n",
    "\n",
    "The idea is eventually compare these voting algorithms on a variety of probability distributions from which we will sample our population of voters. It'll be easiest if we have our center at 0 and let's restrict our candidates to the range $[-4, 4]$, choosen because on a normal curve with mean $\\mu = 0$ and standard deviation $\\sigma = 1$, the probability of selecting a value outside that range is effectively 0.\n",
    "\n",
    "For now let's just hardcode some stuff, we can come back and be general later."
   ]
  },
  {
   "cell_type": "code",
   "execution_count": 58,
   "id": "3fb2cdd8-b216-41c8-90d6-3370062e20c9",
   "metadata": {},
   "outputs": [
    {
     "data": {
      "image/png": "[encoded data removed]",
      "text/plain": [
       "<Figure size 1000x100 with 1 Axes>"
      ]
     },
     "metadata": {},
     "output_type": "display_data"
    },
    {
     "data": {
      "image/png": "[encoded data removed]",
      "text/plain": [
       "<Figure size 1000x100 with 1 Axes>"
      ]
     },
     "metadata": {},
     "output_type": "display_data"
    }
   ],
   "source": [
    "# Quickly, a number line plotting function might be helpful, so lets just do that quickly\n",
    "def number_line_plot(x, text_labels=None, text_size=10, dot_size=50, x_lim=[-5,5]):\n",
    "    fig, ax = plt.subplots()\n",
    "    plt.scatter(np.array(x), np.zeros(x.shape), s=dot_size)\n",
    "    fig.set_figheight(1)\n",
    "    fig.set_figwidth(10)\n",
    "    ax.set_xlim(x_lim)\n",
    "    ax.set_ylim([-1,1])\n",
    "    ax.get_yaxis().set_visible(False)\n",
    "\n",
    "    if text_labels is not None and x.size==len(text_labels):\n",
    "        for i, label in enumerate(text_labels):\n",
    "            ax.annotate(label, (x[i]-(len(label) * 0.05), 0.2), fontsize=text_size)\n",
    "    return ax\n",
    "\n",
    "ax = number_line_plot(np.array([1,2,3,4]), text_labels=['1', '2', '3', '4'])\n",
    "plt.show()\n",
    "ax = number_line_plot(np.random.normal(size=(100,)), dot_size=5)"
   ]
  },
  {
   "cell_type": "code",
   "execution_count": 59,
   "id": "fef0c0bd-db04-4553-95fe-ac82510b61b5",
   "metadata": {},
   "outputs": [
    {
     "data": {
      "image/png": "[encoded data removed]",
      "text/plain": [
       "<Figure size 1000x100 with 1 Axes>"
      ]
     },
     "metadata": {},
     "output_type": "display_data"
    }
   ],
   "source": [
    "candidates = {'Arty': 0.25,\n",
    "              'Bella': -0.5,\n",
    "              'Christy': 2}\n",
    "\n",
    "ax = number_line_plot(np.array(list(candidates.values())), text_labels=candidates.keys())"
   ]
  },
  {
   "cell_type": "markdown",
   "id": "e9bd74a8-89af-4bad-9024-80807766c205",
   "metadata": {},
   "source": [
    "Ok now let's think about our voters. Like our candidates, they're represented by a location on the number line showing where they fall on our non-offensive political issue. However it is worth explicitly laying out how the position of a voter relates to their voting behavior. A voter at position $x$ wants to vote for the candidate that minimizes $\\mid x - c \\mid$, where $c$ is the position of the candidate.\n",
    "\n",
    "In a classic election (America style) that means our citizen votes for the closest candidate to their position. For ranked choice voting, the voters top choice would be the closest to their position, the second choice would be the second closest, etc..."
   ]
  },
  {
   "cell_type": "code",
   "execution_count": 60,
   "id": "db9ab904-a16d-4087-8597-0b4f285b140c",
   "metadata": {},
   "outputs": [
    {
     "data": {
      "image/png": "[encoded data removed]",
      "text/plain": [
       "<Figure size 1000x100 with 1 Axes>"
      ]
     },
     "metadata": {},
     "output_type": "display_data"
    }
   ],
   "source": [
    "voters = np.array([-1, -.5, 0, 0.5, 1.5])\n",
    "\n",
    "ax = number_line_plot(voters)"
   ]
  },
  {
   "attachments": {},
   "cell_type": "markdown",
   "id": "f4a3b6b8",
   "metadata": {},
   "source": [
    "It might be worth updating our plotting method to more easily display both candidates and voters"
   ]
  },
  {
   "cell_type": "code",
   "execution_count": 61,
   "id": "57ad60a2",
   "metadata": {},
   "outputs": [
    {
     "data": {
      "text/plain": [
       "<Axes: >"
      ]
     },
     "execution_count": 61,
     "metadata": {},
     "output_type": "execute_result"
    },
    {
     "data": {
      "image/png": "[encoded data removed]",
      "text/plain": [
       "<Figure size 1000x100 with 1 Axes>"
      ]
     },
     "metadata": {},
     "output_type": "display_data"
    }
   ],
   "source": [
    "def number_line_plot_2(values1, values2, **kwargs):\n",
    "    # values1 is candidates\n",
    "    # values2 is voters\n",
    "    # who knows if this was the best way to make this happen\n",
    "\n",
    "    fig, ax = plt.subplots()\n",
    "    dot_size = kwargs['dot_size'] if 'dot_size' in kwargs.keys() else [10,5]\n",
    "    x_lim = kwargs['x_lim'] if 'x_lim' in kwargs.keys() else [-5,5]\n",
    "    text_labels = kwargs['text_labels'] if 'text_labels' in kwargs.keys() else None\n",
    "    text_size = kwargs['text_size'] if 'text_size' in kwargs.keys() else 10\n",
    "\n",
    "    plt.scatter(np.array(values2), np.zeros(values2.shape), s=dot_size[1])\n",
    "    plt.scatter(np.array(values1), np.ones(values1.shape), s=dot_size[0])\n",
    "\n",
    "    fig.set_figheight(1)\n",
    "    fig.set_figwidth(10)\n",
    "    ax.set_xlim(x_lim)\n",
    "    ax.set_ylim([-1,2])\n",
    "    # ax.get_yaxis().set_visible(False)\n",
    "    ax.set_yticks([0,1])\n",
    "    ax.set_yticklabels(['voters', 'candidates'])\n",
    "\n",
    "    # For now only setup labels for candidates\n",
    "    if text_labels is not None and values1.size==len(text_labels):\n",
    "        for i, label in enumerate(text_labels):\n",
    "            ax.annotate(label, (values1[i]-(len(label) * 0.05), 1.2), fontsize=text_size)\n",
    "    return ax\n",
    "\n",
    "number_line_plot_2(np.array(list(candidates.values())), voters, text_labels=candidates.keys())"
   ]
  },
  {
   "attachments": {},
   "cell_type": "markdown",
   "id": "779afd18",
   "metadata": {},
   "source": [
    "Great, now we have a much better picture of our particular voting situation. Just a quick visual check shows what we might expect to happen in this situation. In a classic voting situation, each of Bella and Arty would receive the two votes of the candidates closest to them, while Christy would receive the vote of that right-most voter. So we'd end up with vote tallies of [2, 2, 1], meaning no candidate would win outright.\n",
    "\n",
    "With ranked choice however, we would eliminate Christy after one round of voting, at which point that voters ballot would switch to Arty, giving him the win."
   ]
  },
  {
   "attachments": {},
   "cell_type": "markdown",
   "id": "f738b210",
   "metadata": {},
   "source": [
    "## Voting Machines\n",
    "\n",
    "It seems like the right time to start describing our voting algorithms, which I shall call *voting machines*. Seems appropriate.\n",
    "\n",
    "Let's start with a classic voting situation. "
   ]
  },
  {
   "cell_type": "code",
   "execution_count": 62,
   "id": "011e6452",
   "metadata": {},
   "outputs": [
    {
     "name": "stdout",
     "output_type": "stream",
     "text": [
      "[1. 2.]\n",
      "[1. 9.]\n"
     ]
    }
   ],
   "source": [
    "def classic_voting_machine(candidates, voters):\n",
    "    # candidates is a numpy array of shape (N,)\n",
    "    # voters is a numpy array of shape (M,)\n",
    "\n",
    "    # compute distances from all candidates to all voters\n",
    "    diffs = np.absolute(np.array([[c - v for c in candidates] for v in voters]))\n",
    "\n",
    "    # returns the index of the candidate each voter is voting for\n",
    "    am = np.argmin(diffs, axis=1)\n",
    "\n",
    "    c_ndx, counts = np.unique(am, return_counts=True)\n",
    "    \n",
    "    final_tally = np.zeros(candidates.shape)\n",
    "    for i in range(len(c_ndx)):\n",
    "        final_tally[c_ndx[i]] = counts[i]\n",
    "    return final_tally\n",
    "\n",
    "print(classic_voting_machine(np.array([1,2]), np.array([0, 1.6, 2.2])))\n",
    "print(classic_voting_machine(np.array([-1, 1]), np.arange(10))) # includes 0, and tiebreak might go to candidate at -1"
   ]
  },
  {
   "cell_type": "markdown",
   "id": "d47227b9-0a7b-44f2-bac1-fc676f9faf55",
   "metadata": {},
   "source": [
    "Wonderful, I think our classic voting machine is working. Lets do ranked choice. The process for this at first is a bit more daunting, but there does seem to be a nice way to simplify everything if we throw performance out the window. And since my goal is to use a handful of candidates and a couple thousand voters (represented by simple ints), I think we can accept that for now.\n",
    "\n",
    "We should get a bit more rigourous with our notation. Let $c$ denote a candidate and $v$ denote a voter. Lets define a function $P(x)$ that yields the positions of both candidates and voters. \n",
    "\n",
    "The simplification I'm going to make assumes that each voter prefers candidates according to a candidate's proximity to the voters location. Maybe a bit more technically, a voter with position $v$ will have an ordered sequence of candidates to vote for: $S_v = {c_1^v, c_2^v, c_3^3,...}$ where $\\mid P(c_1^v) - P(v) \\mid \\le \\mid P(c_2^v) - P(v) \\mid \\le \\mid P(c_3^v) - P(v) \\mid \\le ...$\n",
    "\n",
    "As a quick aside, this obviously doesn't map directly real elections. A certain politician may have policies more conforming to my politics, but I may prefer another candidate for any number of reasons such as age, number of sexual assault cases, spray on tan status, etc.\n",
    "\n",
    "Anyways. If we consider a ranked choice election with 3 candidates, it's obvious that the result of the first vote is the same as classic voting: each voter ranks the candidate closest to their position as their top choice. Now lets assume that no candidate reached a majority, as we have to eliminate a candidate, call them $c_{loser}$. Well the voters who ranked $c_{loser}$ as their top choice would now have their ballot default to their second choice. This is the candidate from the set of candidates *minus* $c_{loser}$. So, for this second round we can just use or classic voting machine again, but on subset of candidates that are still in the election. This logic applies to more and more eliminations until we are left with 2, allowing us to gracefully resuse code (fuck ya).\n",
    "\n",
    "One last note. I'd like to not delete candidates from the input list, as I'm using the indexing to determine who is who. So instead of deleting, I'm going to simply change their position to `np.inf`. It should be obvious why this works: by setting a candidates position to infinity, they automatically move to the bottom of every voters rankings. Any candidate remaining in election would be higher ranked, even if they are on the other side of our made up spectrum. So for all intents and purposes they are deleted. This does come with the caveat of having to keep track of how many we've deleted and using some fun logic to make sure we don't try and delete an already deleted candidate. But that's ok."
   ]
  },
  {
   "cell_type": "code",
   "execution_count": 63,
   "id": "d5ab9ad7-5f48-4ea0-a620-59f088516baa",
   "metadata": {},
   "outputs": [
    {
     "name": "stdout",
     "output_type": "stream",
     "text": [
      "[2. 3. 0.]\n",
      "[0. 3. 0. 5. 0. 0.]\n"
     ]
    }
   ],
   "source": [
    "def ranked_choice_voting_machine(candidates, voters):\n",
    "    majority = False\n",
    "    num_voters = voters.size\n",
    "    num_deleted = 0\n",
    "    while not majority:\n",
    "        tallies = classic_voting_machine(candidates, voters)\n",
    "        majority = np.max(tallies) >= (num_voters/2)\n",
    "        if majority:\n",
    "            return tallies\n",
    "\n",
    "        # no majority, elimiate candidate\n",
    "        loser = np.argsort(tallies)\n",
    "        candidates[loser[0 + num_deleted]] = np.inf\n",
    "        num_deleted+=1\n",
    "        if np.all(candidates==np.inf):\n",
    "            print(\"Eliminated all candidates, something messed up\")\n",
    "            return np.array([0])\n",
    "\n",
    "print(ranked_choice_voting_machine(np.array([0,1,2], dtype='float'), np.array([-0.1, 0.1, 0.9, 1.1, 2.5], dtype='float')))\n",
    "print(ranked_choice_voting_machine(\n",
    "    np.arange(-3,3, dtype='float'),\n",
    "    np.array([-3, -2, -1, -0.25, 0.25, 1, 2, 3], dtype='float')\n",
    "))"
   ]
  },
  {
   "cell_type": "markdown",
   "id": "45232e67",
   "metadata": {},
   "source": [
    "How do we handle approval voting? With classic, each voter chose the candidate closest to them on the scale. In ranked choice, we had each voter list all the candidates in order by their position proximity. But in approval we have to make another design decision: Where is the cutoff between approve and not approve?\n",
    "\n",
    "For now, I'm just going to make some assumptions, but we can come back later and edit theses. \n",
    "\n",
    "1. Voters will always approve of at least one candidate. Otherwise why show up?\n",
    "2. ~~Voters approve of each candidate within $1$ unit of their position on the axis.~~ I've decided to change this to 2. Our range is [-4, 4], so 1 seems too small to be realistic.\n",
    "\n",
    "Let's set these values in their own cell, so we can easily edit them in the future."
   ]
  },
  {
   "cell_type": "code",
   "execution_count": 64,
   "id": "b45e8f88",
   "metadata": {},
   "outputs": [],
   "source": [
    "MIN_CANDIDATES_APPROVED = 1\n",
    "APPROVAL_VOTING_RANGE = 2"
   ]
  },
  {
   "cell_type": "code",
   "execution_count": 65,
   "id": "54517c0a",
   "metadata": {},
   "outputs": [
    {
     "name": "stdout",
     "output_type": "stream",
     "text": [
      "[ 9  9 10]\n"
     ]
    }
   ],
   "source": [
    "def approval_voting_machine(candidates, voters, approval_voting_range_self=None):\n",
    "\n",
    "    # Juse so we have the easy ability to overwrite APPROVAL_VOTING_RANGE for one offs\n",
    "    approval_voting_range_self = APPROVAL_VOTING_RANGE if approval_voting_range_self is None else approval_voting_range_self\n",
    "\n",
    "    # compute distances from all candidates to all voters\n",
    "    diffs = np.absolute(np.array([[c - v for c in candidates] for v in voters]))\n",
    "    approvals = diffs <= APPROVAL_VOTING_RANGE\n",
    "\n",
    "    # We need to find rows in approvals with sum = 0, since these voters provisionally vote for less than MIN_CANDIDATES_APPROVED candidates.\n",
    "    # We should have these voters vote for the MIN_CANDIDATES_APPROVED number of candidates.\n",
    "    not_enough_approvals = np.where(np.sum(approvals, axis=1) < MIN_CANDIDATES_APPROVED)\n",
    "\n",
    "    for voter_ndx in not_enough_approvals:\n",
    "        \n",
    "        # get candidates distances from this voter\n",
    "        cand_dists = diffs[voter_ndx, :]\n",
    "        ordered_ndx = np.argsort(cand_dists).flatten()\n",
    "        approvals[voter_ndx, ordered_ndx[:MIN_CANDIDATES_APPROVED]] = True\n",
    "\n",
    "    votes = np.sum(approvals, axis=0)\n",
    "    return votes\n",
    "\n",
    "print(\n",
    "    approval_voting_machine(\n",
    "        np.array([0, 0.5, 1]),\n",
    "        np.array([-0.3, -0.1, 0.3, 0.4, 0.6, 0.9, 1.1, 1.6, 1.8, 3])\n",
    "    )\n",
    ")"
   ]
  },
  {
   "cell_type": "markdown",
   "id": "16efc746-0226-400e-949e-9ab9b73e0e64",
   "metadata": {},
   "source": [
    "Ok before we get tooooooo far down the rabbit hole, I'd like to just take a moment and do some sanity testing. "
   ]
  },
  {
   "cell_type": "code",
   "execution_count": 66,
   "id": "ed978ede-b114-4cad-8271-b86e8002ebd1",
   "metadata": {},
   "outputs": [
    {
     "name": "stdout",
     "output_type": "stream",
     "text": [
      "[469.  31.]\n",
      "[469.  31.]\n",
      "[493  80]\n"
     ]
    },
    {
     "data": {
      "image/png": "[encoded data removed]",
      "text/plain": [
       "<Figure size 1000x100 with 1 Axes>"
      ]
     },
     "metadata": {},
     "output_type": "display_data"
    }
   ],
   "source": [
    "candidates = np.array([0, 3], dtype='float')\n",
    "voters = np.random.normal(size=(500,))\n",
    "\n",
    "number_line_plot_2(candidates, voters)\n",
    "print(classic_voting_machine(candidates, voters))\n",
    "print(ranked_choice_voting_machine(candidates, voters))\n",
    "print(approval_voting_machine(candidates, voters))"
   ]
  },
  {
   "cell_type": "code",
   "execution_count": 67,
   "id": "b8123c4b-2a35-4386-894d-4ac2649911ec",
   "metadata": {},
   "outputs": [
    {
     "name": "stdout",
     "output_type": "stream",
     "text": [
      "[164. 297.  39.]\n",
      "[164. 297.  39.]\n",
      "[424 478  76]\n"
     ]
    },
    {
     "data": {
      "image/png": "[encoded data removed]",
      "text/plain": [
       "<Figure size 1000x100 with 1 Axes>"
      ]
     },
     "metadata": {},
     "output_type": "display_data"
    }
   ],
   "source": [
    "candidates = np.array([-1, 0, 3], dtype='float')\n",
    "voters = np.random.normal(size=(500,))\n",
    "\n",
    "number_line_plot_2(candidates, voters)\n",
    "print(classic_voting_machine(candidates, voters))\n",
    "print(ranked_choice_voting_machine(candidates, voters))\n",
    "print(approval_voting_machine(candidates, voters))"
   ]
  },
  {
   "cell_type": "code",
   "execution_count": 68,
   "id": "df497144-1838-45ec-a847-8cfe40d140a4",
   "metadata": {},
   "outputs": [
    {
     "name": "stdout",
     "output_type": "stream",
     "text": [
      "[183. 142. 175.]\n",
      "[283.   0. 217.]\n",
      "[472   0 423]\n"
     ]
    },
    {
     "data": {
      "image/png": "[encoded data removed]",
      "text/plain": [
       "<Figure size 1000x100 with 1 Axes>"
      ]
     },
     "metadata": {},
     "output_type": "display_data"
    }
   ],
   "source": [
    "candidates = np.array([-0.5, 0, 1], dtype='float')\n",
    "voters = np.random.normal(size=(500,))\n",
    "\n",
    "number_line_plot_2(candidates, voters)\n",
    "print(classic_voting_machine(candidates, voters))\n",
    "print(ranked_choice_voting_machine(candidates, voters))\n",
    "print(approval_voting_machine(candidates, voters))"
   ]
  },
  {
   "cell_type": "code",
   "execution_count": null,
   "id": "e9863875-d91c-4802-bd7d-188bdefa729e",
   "metadata": {},
   "outputs": [],
   "source": []
  }
 ],
 "metadata": {
  "kernelspec": {
   "display_name": "Python 3 (ipykernel)",
   "language": "python",
   "name": "python3"
  },
  "language_info": {
   "codemirror_mode": {
    "name": "ipython",
    "version": 3
   },
   "file_extension": ".py",
   "mimetype": "text/x-python",
   "name": "python",
   "nbconvert_exporter": "python",
   "pygments_lexer": "ipython3",
   "version": "3.9.18"
  },
  "vscode": {
   "interpreter": {
    "hash": "ba721d4e722b5a1731395cf9ca7ebeb247d280246ad3c4f083bce60687f4e77d"
   }
  }
 },
 "nbformat": 4,
 "nbformat_minor": 5
}
